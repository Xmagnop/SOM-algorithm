{
  "nbformat": 4,
  "nbformat_minor": 0,
  "metadata": {
    "colab": {
      "provenance": []
    },
    "kernelspec": {
      "name": "python3",
      "display_name": "Python 3"
    },
    "language_info": {
      "name": "python"
    }
  },
  "cells": [
    {
      "cell_type": "markdown",
      "source": [
        "#Utilizando biblioteca Minisom"
      ],
      "metadata": {
        "id": "mabvn_-tZyKO"
      }
    },
    {
      "cell_type": "markdown",
      "source": [
        "##Importar datasets"
      ],
      "metadata": {
        "id": "X2_ns7onYcXr"
      }
    },
    {
      "cell_type": "markdown",
      "source": [
        "Importe algum dataset de classificação de sua escolha. Algumas sugestões de datasets do sklearn são:\n",
        "\n",
        "\n",
        "* Dataset de classificação de flores:\n",
        "  * from sklearn.datasets import load_iris\n",
        "* Dataset de predição de tumores usando dados computados a partir de imagens\n",
        "  * from sklearn.datasets import load_breast_cancer\n",
        "* Dataset de classificação de vinhos\n",
        "  * from sklearn.datasets import load_wine\n",
        "\n",
        "\n"
      ],
      "metadata": {
        "id": "gzvX3EfXYe0L"
      }
    },
    {
      "cell_type": "markdown",
      "source": [
        "## Carregar Dataset"
      ],
      "metadata": {
        "id": "LXyZv1hQZcCr"
      }
    },
    {
      "cell_type": "markdown",
      "source": [
        "Carrege o dataset em uma variável e divida em X e y (data e target). Lembre também de salvar as labels da tabela"
      ],
      "metadata": {
        "id": "ysuahUsRZe7H"
      }
    },
    {
      "cell_type": "code",
      "source": [
        "# Importação do dataset\n",
        "from sklearn.datasets import load_wine\n",
        "\n",
        "# Carregamento do dataset\n",
        "data = load_wine()\n",
        "X = data.data\n",
        "y = data.target\n",
        "\n",
        "# Labels das classes\n",
        "labels = data.target_names\n",
        "print(f'Classes: {labels}')\n",
        "print(f'Dados (X) shape: {X.shape}')\n",
        "print(f'Target (y) shape: {y.shape}')"
      ],
      "metadata": {
        "colab": {
          "base_uri": "https://localhost:8080/"
        },
        "id": "3XhREkEnwQth",
        "outputId": "c255b607-ae77-479b-c36f-64cf07f96395"
      },
      "execution_count": 2,
      "outputs": [
        {
          "output_type": "stream",
          "name": "stdout",
          "text": [
            "Classes: ['class_0' 'class_1' 'class_2']\n",
            "Dados (X) shape: (178, 13)\n",
            "Target (y) shape: (178,)\n"
          ]
        }
      ]
    },
    {
      "cell_type": "markdown",
      "source": [
        "##Normalização dos dados"
      ],
      "metadata": {
        "id": "EM4BkcIIZ5oY"
      }
    },
    {
      "cell_type": "markdown",
      "source": [
        "Utilizando as funções MinMaxScaler() e fit_transform(), realize a normalização dos dados de entrada (X) de forma que os valores fiquem entre 0 e 1"
      ],
      "metadata": {
        "id": "lDjP4DiPZ766"
      }
    },
    {
      "cell_type": "code",
      "source": [
        "from sklearn.preprocessing import MinMaxScaler\n",
        "\n",
        "# Normalização dos dados de entrada\n",
        "scaler = MinMaxScaler()\n",
        "X_scaled = scaler.fit_transform(X)\n",
        "\n",
        "print(f'Dados normalizados (X_scaled) shape: {X_scaled.shape}')"
      ],
      "metadata": {
        "colab": {
          "base_uri": "https://localhost:8080/"
        },
        "id": "wjFjsOEAwS_0",
        "outputId": "c2ab4f49-48a0-4cc1-922a-3f04f9ce7e67"
      },
      "execution_count": 3,
      "outputs": [
        {
          "output_type": "stream",
          "name": "stdout",
          "text": [
            "Dados normalizados (X_scaled) shape: (178, 13)\n"
          ]
        }
      ]
    },
    {
      "cell_type": "markdown",
      "source": [
        "## Aplicar SOM"
      ],
      "metadata": {
        "id": "BcNSP9gWap0i"
      }
    },
    {
      "cell_type": "markdown",
      "source": [
        "Utilize a função MiniSom() para aplicar o SOM para classificação dos dados\n",
        "\n",
        "OBS: Parâmetros\n",
        "* x e y: largura e altura da grid, respectivamente\n",
        "* input_len: número de entradas da rede neural de classificação\n",
        "* sigma: raio da vizinhança de influência dos neurônios vencedores\n",
        "* learning_rate: taxa de aprendizado. O quanto os neurônios se ajustam a cada iteração"
      ],
      "metadata": {
        "id": "xqD_5N1TasiE"
      }
    },
    {
      "cell_type": "code",
      "source": [
        "!pip install minisom"
      ],
      "metadata": {
        "colab": {
          "base_uri": "https://localhost:8080/"
        },
        "id": "feQGyfj4wh47",
        "outputId": "0e0dd7b1-f750-480a-e5cb-a694f7349ff7"
      },
      "execution_count": 4,
      "outputs": [
        {
          "output_type": "stream",
          "name": "stdout",
          "text": [
            "Collecting minisom\n",
            "  Downloading MiniSom-2.3.3.tar.gz (11 kB)\n",
            "  Preparing metadata (setup.py) ... \u001b[?25l\u001b[?25hdone\n",
            "Building wheels for collected packages: minisom\n",
            "  Building wheel for minisom (setup.py) ... \u001b[?25l\u001b[?25hdone\n",
            "  Created wheel for minisom: filename=MiniSom-2.3.3-py3-none-any.whl size=11706 sha256=512ba4803a887a686120714fd742e22823acb9dfc0531fbb638c62a227d37e15\n",
            "  Stored in directory: /root/.cache/pip/wheels/96/98/a5/52dee3e8ed1dbfc4d77e4da41b6d89dd7ab9ead1b921e766f8\n",
            "Successfully built minisom\n",
            "Installing collected packages: minisom\n",
            "Successfully installed minisom-2.3.3\n"
          ]
        }
      ]
    },
    {
      "cell_type": "code",
      "source": [
        "# Importação da MiniSom\n",
        "from minisom import MiniSom\n",
        "\n",
        "# Parâmetros do SOM\n",
        "x_dim, y_dim = 10, 10  # Dimensões do grid\n",
        "input_len = X.shape[1]  # Número de entradas do SOM (número de features em X)\n",
        "sigma = 1.0             # Raio de vizinhança\n",
        "learning_rate = 0.5     # Taxa de aprendizado\n",
        "\n",
        "# Inicialização do SOM\n",
        "som = MiniSom(x=x_dim, y=y_dim, input_len=input_len, sigma=sigma, learning_rate=learning_rate)\n"
      ],
      "metadata": {
        "id": "0YiuAOlHwWAF"
      },
      "execution_count": 5,
      "outputs": []
    },
    {
      "cell_type": "markdown",
      "source": [
        "##Inicializar os pesos"
      ],
      "metadata": {
        "id": "TK2qL-7DcO9p"
      }
    },
    {
      "cell_type": "markdown",
      "source": [
        "Aplique a função random_weights_init() no som para aplicar os pesos de forma aleatória. Defina o intervalo dos dados corretamente, passando X_scaled como parâmetro"
      ],
      "metadata": {
        "id": "KBPc5j0AcQs5"
      }
    },
    {
      "cell_type": "code",
      "source": [
        "# Inicialização dos pesos do SOM\n",
        "som.random_weights_init(X_scaled)\n",
        "print(\"Pesos inicializados aleatoriamente.\")"
      ],
      "metadata": {
        "colab": {
          "base_uri": "https://localhost:8080/"
        },
        "id": "tq1YnBqjwXu8",
        "outputId": "f5af8d1d-6d82-4998-b6aa-71931f620634"
      },
      "execution_count": 6,
      "outputs": [
        {
          "output_type": "stream",
          "name": "stdout",
          "text": [
            "Pesos inicializados aleatoriamente.\n"
          ]
        }
      ]
    },
    {
      "cell_type": "markdown",
      "source": [
        "##Treinar SOM"
      ],
      "metadata": {
        "id": "YUCpacYdcyey"
      }
    },
    {
      "cell_type": "markdown",
      "source": [
        "utilize a função train_random para treinar o SOM. A função recebe como parâmetros:\n",
        "\n",
        "* Dados de treinamento\n",
        "* num_iteration: Quantidade de iterações que será realizada"
      ],
      "metadata": {
        "id": "D0BQNieBcz3F"
      }
    },
    {
      "cell_type": "code",
      "source": [
        "# Número de iterações\n",
        "num_iterations = 1000\n",
        "\n",
        "# Treinamento do SOM\n",
        "som.train_random(data=X_scaled, num_iteration=num_iterations)\n",
        "print(\"Treinamento concluído.\")"
      ],
      "metadata": {
        "colab": {
          "base_uri": "https://localhost:8080/"
        },
        "id": "05jcnRpmwaIj",
        "outputId": "81d49b86-942f-4024-b1f6-1a35ab3ec7c7"
      },
      "execution_count": 7,
      "outputs": [
        {
          "output_type": "stream",
          "name": "stdout",
          "text": [
            "Treinamento concluído.\n"
          ]
        }
      ]
    },
    {
      "cell_type": "markdown",
      "source": [
        "## Customizar representação do SOM\n"
      ],
      "metadata": {
        "id": "Hoonj6rNdS_a"
      }
    },
    {
      "cell_type": "markdown",
      "source": [
        "Etapa opcional. Você pode configurar cores ou formas geométricas para cada classe. Exemplo:"
      ],
      "metadata": {
        "id": "C1KN0FMkdXPS"
      }
    },
    {
      "cell_type": "code",
      "source": [
        "import numpy as np\n",
        "\n",
        "# Definição de cores e marcadores\n",
        "colors = ['r', 'g', 'b']  # Vermelho, Verde, Azul para cada classe\n",
        "markers = ['o', 's', 'D']  # Círculo, Quadrado, Diamante para cada classe"
      ],
      "metadata": {
        "id": "ja0sYhAfdhvR"
      },
      "execution_count": 8,
      "outputs": []
    },
    {
      "cell_type": "markdown",
      "source": [
        "##Plotar mapa SOM"
      ],
      "metadata": {
        "id": "tmoJZtvNdwvw"
      }
    },
    {
      "cell_type": "markdown",
      "source": [
        "Percorra toda a matriz, encontrando o vencedor para cada bloco do mapa. Para cada amostra de X_scaled, encontramos o neurônio vencedor no SOM (winner = som.winner(x)).\n",
        "\n",
        "Utilize plt.plot para desenhar a classe vencedora no mapa. Utilize aqui as cores ou marcadores, caso tenha optado por isso. Utilize os parâmetros:\n",
        "\n",
        "* markerfacecolor='None', para deixar a marcação original invisivel, e poder aplicar as customizadas\n",
        "* markeredgecolors=colors[y[i]] para definir a cor das bordas conforme definido anteriormente\n",
        "*markersize e markeredgewidth para tamanho e espessura da borda das formas geométricas\n",
        "\n",
        "OBS: É possível que um bloco da grid tenha 2 winners. Faça com que escolha um deles apenas, para não sobrepor a imagem"
      ],
      "metadata": {
        "id": "voukwRy3eXWn"
      }
    },
    {
      "cell_type": "markdown",
      "source": [
        "##Criação da grid e titulo + exibição do gráfico"
      ],
      "metadata": {
        "id": "RFtezcx6gIvT"
      }
    },
    {
      "cell_type": "markdown",
      "source": [
        "Crie as bordas de cada bloco da grid conforme abaixo"
      ],
      "metadata": {
        "id": "HxFUg-5IgPV8"
      }
    },
    {
      "cell_type": "code",
      "source": [
        "import matplotlib.pyplot as plt\n",
        "\n",
        "# Plot do mapa SOM\n",
        "plt.figure(figsize=(10, 10))\n",
        "\n",
        "for i, x in enumerate(X_scaled):\n",
        "    # Encontrar o vencedor para cada amostra\n",
        "    winner = som.winner(x)\n",
        "    plt.plot(winner[0] + 0.5, winner[1] + 0.5,\n",
        "             markers[y[i]],\n",
        "             markerfacecolor='None',\n",
        "             markeredgecolor=colors[y[i]],\n",
        "             markersize=12,\n",
        "             markeredgewidth=2)\n",
        "\n",
        "# Configuração da grid e título\n",
        "plt.title('Mapa SOM - Vinhos')\n",
        "plt.grid(True)\n",
        "plt.show()"
      ],
      "metadata": {
        "id": "drPXu67jgLm_",
        "colab": {
          "base_uri": "https://localhost:8080/",
          "height": 853
        },
        "outputId": "acc8be7e-14af-41c8-f564-8bbd77488aac"
      },
      "execution_count": 11,
      "outputs": [
        {
          "output_type": "display_data",
          "data": {
            "text/plain": [
              "<Figure size 1000x1000 with 1 Axes>"
            ],
            "image/png": "[encoded data removed]"
          },
          "metadata": {}
        }
      ]
    },
    {
      "cell_type": "markdown",
      "source": [
        "##Resultado esperado"
      ],
      "metadata": {
        "id": "0upmqPfbgeaE"
      }
    },
    {
      "cell_type": "markdown",
      "source": [
        "Seu resultado terá um formato parecido com este:"
      ],
      "metadata": {
        "id": "RfG_ADH-ggEv"
      }
    },
    {
      "cell_type": "markdown",
      "source": [
        "![image.png](data:image/png;base64,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)"
      ],
      "metadata": {
        "id": "W0YAKRZpmAPF"
      }
    },
    {
      "cell_type": "markdown",
      "source": [
        "#Sem Bibliotecas"
      ],
      "metadata": {
        "id": "rROL67nck8E3"
      }
    },
    {
      "cell_type": "markdown",
      "source": [
        "##Preparação dos dados"
      ],
      "metadata": {
        "id": "NUZ5V1DOlOzK"
      }
    },
    {
      "cell_type": "markdown",
      "source": [
        "Nessa Etapa, você irá escolher um conjunto de dados do kaggle e realizará a preparação dos dados\n",
        "\n",
        "Dica: Separe em X e y, e utilize o MinMaxScaler()"
      ],
      "metadata": {
        "id": "vN1qk38Jlcg-"
      }
    },
    {
      "cell_type": "code",
      "source": [
        "from sklearn.datasets import load_wine\n",
        "from sklearn.preprocessing import MinMaxScaler\n",
        "\n",
        "# Carregar o dataset de vinhos\n",
        "data = load_wine()\n",
        "X = data.data\n",
        "y = data.target\n",
        "\n",
        "# Normalizar os dados\n",
        "scaler = MinMaxScaler()\n",
        "X_scaled = scaler.fit_transform(X)"
      ],
      "metadata": {
        "id": "V4Fcrb6HxO2n"
      },
      "execution_count": 23,
      "outputs": []
    },
    {
      "cell_type": "markdown",
      "source": [
        "## Calculo da Distância Euclidiana"
      ],
      "metadata": {
        "id": "qUs2_3E2lrwU"
      }
    },
    {
      "cell_type": "markdown",
      "source": [
        "Calcular a distância entre uma amostra de entrada e os neurônios do SOM (distância entre X e y).  A distância Euclidiana mede a similaridade entre uma amostra e os neurônios no SOM. Essa função é essencial para encontrar o neurônio vencedor"
      ],
      "metadata": {
        "id": "ILQQMijblvpC"
      }
    },
    {
      "cell_type": "code",
      "source": [
        "import numpy as np\n",
        "\n",
        "# Função para calcular a distância Euclidiana\n",
        "def euclidean_distance(x, w):\n",
        "    return np.sqrt(np.sum((x - w) ** 2))"
      ],
      "metadata": {
        "id": "D_mpKU1CxRun"
      },
      "execution_count": 24,
      "outputs": []
    },
    {
      "cell_type": "markdown",
      "source": [
        "##Econtrar Neurônio Vencedor"
      ],
      "metadata": {
        "id": "fbFoRkhgl8IX"
      }
    },
    {
      "cell_type": "markdown",
      "source": [
        "Identificar o neurônio no SOM cuja distância é a menor para a amostra de entrada. O BMU (Neurônio Vencedor) é o neurônio mais próximo da amostra em termos de distância. Encontrar o BMU é uma das etapas principais do SOM, pois serve  para atualizar os pesos e ajustá-los à amostra"
      ],
      "metadata": {
        "id": "OWs8-icymFAo"
      }
    },
    {
      "cell_type": "code",
      "source": [
        "# Função para encontrar o neurônio vencedor (BMU)\n",
        "def find_bmu(x, som_weights):\n",
        "    min_dist = np.inf\n",
        "    bmu_idx = None\n",
        "\n",
        "    # Percorrer todos os neurônios no grid para encontrar o BMU\n",
        "    for i in range(som_weights.shape[0]):\n",
        "        for j in range(som_weights.shape[1]):\n",
        "            w = som_weights[i, j, :]\n",
        "            dist = euclidean_distance(x, w)\n",
        "            if dist < min_dist:\n",
        "                min_dist = dist\n",
        "                bmu_idx = (i, j)\n",
        "\n",
        "    if bmu_idx is None:\n",
        "        print(f\"Erro: BMU não encontrado para a amostra {x}. Verifique os dados de entrada e inicialização dos pesos.\")\n",
        "        raise ValueError(\"BMU não encontrado.\")\n",
        "\n",
        "    print(f\"BMU encontrado: {bmu_idx} com distância {min_dist}\")\n",
        "    return bmu_idx, min_dist"
      ],
      "metadata": {
        "id": "UxFT5-DGxUBP"
      },
      "execution_count": 25,
      "outputs": []
    },
    {
      "cell_type": "markdown",
      "source": [
        "## Atualização dos Pesos dos Neurônios"
      ],
      "metadata": {
        "id": "LRmEa3UTmNV-"
      }
    },
    {
      "cell_type": "markdown",
      "source": [
        "Ajustar os pesos dos neurônios vencedores e seus vizinhos para que a rede SOM aprenda o padrão dos dados.  Nesta etapa, não apenas o BMU, mas também os neurônios vizinhos a ele são ajustados, criando uma resposta organizada e suavizada para os dados."
      ],
      "metadata": {
        "id": "t7m_qQCumPcZ"
      }
    },
    {
      "cell_type": "code",
      "source": [
        "# Função para atualizar os pesos dos neurônios\n",
        "def update_weights(x, som_weights, bmu_idx, learning_rate, sigma):\n",
        "    for i in range(som_weights.shape[0]):\n",
        "        for j in range(som_weights.shape[1]):\n",
        "            # Calcular a distância entre o neurônio e o BMU\n",
        "            dist_to_bmu = np.sqrt((i - bmu_idx[0]) ** 2 + (j - bmu_idx[1]) ** 2)\n",
        "\n",
        "            # Atualizar os pesos se o neurônio estiver dentro do raio de influência\n",
        "            if dist_to_bmu <= sigma:\n",
        "                influence = np.exp(-dist_to_bmu**2 / (2 * (sigma ** 2)))\n",
        "                som_weights[i, j, :] += learning_rate * influence * (x - som_weights[i, j, :])"
      ],
      "metadata": {
        "id": "v_4zdGd8xZaC"
      },
      "execution_count": 26,
      "outputs": []
    },
    {
      "cell_type": "markdown",
      "source": [
        "## Treinamento da Rede SOM"
      ],
      "metadata": {
        "id": "pTxt06LlmSeK"
      }
    },
    {
      "cell_type": "markdown",
      "source": [
        "Treinar o SOM para mapear as amostras de entrada nos neurônios do grid.  O treinamento permite que o SOM aprenda padrões nos dados, ajustando os pesos dos neurônios para formar agrupamentos que representem diferentes tipos de dados"
      ],
      "metadata": {
        "id": "ToG_Xf8jmTeb"
      }
    },
    {
      "cell_type": "code",
      "source": [
        "# Função para treinar o SOM\n",
        "def train_som(X, som_weights, num_iterations, learning_rate, sigma):\n",
        "    for iteration in range(num_iterations):\n",
        "        # Seleciona uma amostra aleatória do dataset\n",
        "        random_idx = np.random.randint(0, X.shape[0])\n",
        "        x = X[random_idx]\n",
        "\n",
        "        # Encontrar o BMU para a amostra\n",
        "        bmu_idx, _ = find_bmu(x, som_weights)\n",
        "\n",
        "        # Atualizar os pesos dos neurônios\n",
        "        update_weights(x, som_weights, bmu_idx, learning_rate, sigma)\n",
        "\n",
        "        # Diminuir o learning rate e sigma ao longo do tempo\n",
        "        learning_rate *= (1 - iteration / num_iterations)\n",
        "        sigma *= (1 - iteration / num_iterations)\n",
        "\n",
        "# Inicialização dos pesos do SOM dentro do intervalo [0, 1]\n",
        "grid_shape = (10, 10)\n",
        "som_weights = np.random.rand(grid_shape[0], grid_shape[1], X_scaled.shape[1])\n",
        "\n",
        "# Treinamento do SOM\n",
        "num_iterations = 100\n",
        "train_som(X_scaled, som_weights, num_iterations, learning_rate=0.5, sigma=1.0)\n",
        "print(\"Treinamento do SOM concluído.\")"
      ],
      "metadata": {
        "colab": {
          "base_uri": "https://localhost:8080/"
        },
        "id": "p5dk-JpwxcMa",
        "outputId": "d8e8aacb-1168-4faa-f2c4-4fa0260561cc"
      },
      "execution_count": 27,
      "outputs": [
        {
          "output_type": "stream",
          "name": "stdout",
          "text": [
            "BMU encontrado: (1, 4) com distância 0.8464120920491895\n",
            "BMU encontrado: (1, 4) com distância 0.6438738279672561\n",
            "BMU encontrado: (1, 4) com distância 0.5561571839171517\n",
            "BMU encontrado: (3, 3) com distância 0.7392154908592266\n",
            "BMU encontrado: (3, 4) com distância 0.6849940885555253\n",
            "BMU encontrado: (3, 3) com distância 0.670643689400218\n",
            "BMU encontrado: (9, 8) com distância 0.7703355398179504\n",
            "BMU encontrado: (3, 3) com distância 0.3676970883286618\n",
            "BMU encontrado: (3, 3) com distância 0.5621799940196172\n",
            "BMU encontrado: (1, 4) com distância 0.41797806823043937\n",
            "BMU encontrado: (1, 4) com distância 0.285187900209594\n",
            "BMU encontrado: (3, 3) com distância 0.35127637314934784\n",
            "BMU encontrado: (3, 3) com distância 0.35987603021480685\n",
            "BMU encontrado: (9, 8) com distância 0.4397546213616485\n",
            "BMU encontrado: (2, 9) com distância 0.6838151930704071\n",
            "BMU encontrado: (3, 3) com distância 0.7797764673253496\n",
            "BMU encontrado: (1, 4) com distância 0.3409001095012359\n",
            "BMU encontrado: (3, 3) com distância 0.4700165934113647\n",
            "BMU encontrado: (2, 4) com distância 0.5469371790786351\n",
            "BMU encontrado: (1, 4) com distância 0.3902413001931871\n",
            "BMU encontrado: (2, 4) com distância 0.45234017761245826\n",
            "BMU encontrado: (1, 4) com distância 0.3588294044308633\n",
            "BMU encontrado: (2, 9) com distância 0.7053292461503016\n",
            "BMU encontrado: (9, 9) com distância 0.676626093402357\n",
            "BMU encontrado: (2, 4) com distância 0.4760535288958905\n",
            "BMU encontrado: (9, 9) com distância 0.5999647066274525\n",
            "BMU encontrado: (9, 9) com distância 0.6773844006349413\n",
            "BMU encontrado: (1, 4) com distância 0.4627342335295469\n",
            "BMU encontrado: (3, 3) com distância 0.4067670226770341\n",
            "BMU encontrado: (1, 4) com distância 0.5861333203762127\n",
            "BMU encontrado: (3, 9) com distância 0.643990968986095\n",
            "BMU encontrado: (3, 3) com distância 0.5022752183870626\n",
            "BMU encontrado: (1, 4) com distância 0.3390810802525855\n",
            "BMU encontrado: (3, 3) com distância 0.32014293014278383\n",
            "BMU encontrado: (2, 4) com distância 0.4155333168745218\n",
            "BMU encontrado: (1, 4) com distância 0.4472182191038005\n",
            "BMU encontrado: (9, 9) com distância 0.5996318873567383\n",
            "BMU encontrado: (3, 3) com distância 0.7312495936506321\n",
            "BMU encontrado: (1, 4) com distância 0.4798356090391611\n",
            "BMU encontrado: (9, 9) com distância 0.737388326497372\n",
            "BMU encontrado: (3, 3) com distância 0.45627564165950174\n",
            "BMU encontrado: (1, 4) com distância 0.5015295291572452\n",
            "BMU encontrado: (1, 4) com distância 0.5298663392936849\n",
            "BMU encontrado: (1, 4) com distância 0.3244622982028883\n",
            "BMU encontrado: (2, 9) com distância 0.517016492864692\n",
            "BMU encontrado: (1, 4) com distância 0.2954122468851174\n",
            "BMU encontrado: (2, 4) com distância 0.4588303866626544\n",
            "BMU encontrado: (1, 4) com distância 0.5015061522919476\n",
            "BMU encontrado: (9, 8) com distância 0.7707334693751036\n",
            "BMU encontrado: (1, 4) com distância 0.3373264837621036\n",
            "BMU encontrado: (3, 4) com distância 0.7936912209901406\n",
            "BMU encontrado: (3, 3) com distância 0.41232295036627703\n",
            "BMU encontrado: (1, 4) com distância 0.430513360894831\n",
            "BMU encontrado: (9, 9) com distância 0.733390948482354\n",
            "BMU encontrado: (1, 4) com distância 0.482445447893256\n",
            "BMU encontrado: (1, 4) com distância 0.43969629337924093\n",
            "BMU encontrado: (1, 4) com distância 0.35464454855155586\n",
            "BMU encontrado: (3, 3) com distância 0.33558043063473275\n",
            "BMU encontrado: (3, 3) com distância 0.4272561778052553\n",
            "BMU encontrado: (3, 3) com distância 0.5240447681456707\n",
            "BMU encontrado: (1, 4) com distância 0.3611086537009008\n",
            "BMU encontrado: (9, 9) com distância 0.6177735445606748\n",
            "BMU encontrado: (3, 3) com distância 0.4839429678221562\n",
            "BMU encontrado: (2, 9) com distância 0.6866356343621381\n",
            "BMU encontrado: (2, 9) com distância 0.6353939599485299\n",
            "BMU encontrado: (9, 9) com distância 0.69146077011558\n",
            "BMU encontrado: (5, 5) com distância 0.8850078615402382\n",
            "BMU encontrado: (4, 1) com distância 0.8361212050692286\n",
            "BMU encontrado: (2, 4) com distância 0.41517679272894226\n",
            "BMU encontrado: (9, 9) com distância 0.6606657271430486\n",
            "BMU encontrado: (2, 9) com distância 0.5486041165731663\n",
            "BMU encontrado: (1, 5) com distância 0.4988513796263168\n",
            "BMU encontrado: (3, 3) com distância 0.4123229186675272\n",
            "BMU encontrado: (3, 3) com distância 0.45625006268055157\n",
            "BMU encontrado: (2, 9) com distância 0.8379515604849505\n",
            "BMU encontrado: (3, 3) com distância 0.6436588143127682\n",
            "BMU encontrado: (3, 3) com distância 0.3079263748476692\n",
            "BMU encontrado: (2, 9) com distância 0.8293335800348376\n",
            "BMU encontrado: (3, 3) com distância 0.48394296781783847\n",
            "BMU encontrado: (5, 6) com distância 0.5786846855349356\n",
            "BMU encontrado: (1, 4) com distância 0.20164494122372095\n",
            "BMU encontrado: (1, 4) com distância 0.45633071605044045\n",
            "BMU encontrado: (1, 4) com distância 0.4600318413567691\n",
            "BMU encontrado: (1, 4) com distância 0.3546445479350074\n",
            "BMU encontrado: (9, 9) com distância 0.6048400793778929\n",
            "BMU encontrado: (2, 9) com distância 0.6079604905003818\n",
            "BMU encontrado: (2, 9) com distância 0.6079604905003818\n",
            "BMU encontrado: (1, 4) com distância 0.4105358319089739\n",
            "BMU encontrado: (3, 3) com distância 0.4153841719432389\n",
            "BMU encontrado: (3, 4) com distância 0.7936910992173207\n",
            "BMU encontrado: (1, 4) com distância 0.3054707660892994\n",
            "BMU encontrado: (1, 4) com distância 0.309834680141583\n",
            "BMU encontrado: (3, 3) com distância 0.46808202509272934\n",
            "BMU encontrado: (1, 4) com distância 0.3054707660892994\n",
            "BMU encontrado: (3, 3) com distância 0.525010173292577\n",
            "BMU encontrado: (1, 4) com distância 0.33852749653865166\n",
            "BMU encontrado: (3, 3) com distância 0.3575611970998381\n",
            "BMU encontrado: (3, 3) com distância 0.48394296781783847\n",
            "BMU encontrado: (9, 9) com distância 0.5994225966941119\n",
            "BMU encontrado: (9, 9) com distância 0.667686225142686\n",
            "Treinamento do SOM concluído.\n"
          ]
        }
      ]
    },
    {
      "cell_type": "markdown",
      "source": [
        "##Visualização dos Resultados"
      ],
      "metadata": {
        "id": "bFrJyi2omZzj"
      }
    },
    {
      "cell_type": "markdown",
      "source": [
        "Visualizar o SOM e a organização dos clusters no grid após o treinamento."
      ],
      "metadata": {
        "id": "QE5vPxzbma36"
      }
    },
    {
      "cell_type": "code",
      "source": [
        "import matplotlib.pyplot as plt\n",
        "\n",
        "# Visualizar os clusters no SOM após o treinamento\n",
        "plt.figure(figsize=(10, 10))\n",
        "\n",
        "# Definir cores e marcadores para cada classe\n",
        "colors = ['r', 'g', 'b']\n",
        "markers = ['o', 's', 'D']\n",
        "\n",
        "for i, x in enumerate(X_scaled):\n",
        "    bmu_idx, _ = find_bmu(x, som_weights)\n",
        "    plt.plot(bmu_idx[0] + 0.5, bmu_idx[1] + 0.5,\n",
        "             markers[y[i]],\n",
        "             markerfacecolor='None',\n",
        "             markeredgecolor=colors[y[i]],\n",
        "             markersize=12,\n",
        "             markeredgewidth=2)\n",
        "\n",
        "# Configuração do grid e título\n",
        "plt.title(\"Mapa SOM dos Vinhos\")\n",
        "plt.grid(True)\n",
        "plt.show()"
      ],
      "metadata": {
        "colab": {
          "base_uri": "https://localhost:8080/",
          "height": 1000
        },
        "id": "QTf0kyAxxeGw",
        "outputId": "1606fa7b-2e1b-450f-9702-d0f09ccbe1dd"
      },
      "execution_count": 28,
      "outputs": [
        {
          "output_type": "stream",
          "name": "stdout",
          "text": [
            "BMU encontrado: (1, 4) com distância 0.4600318413567691\n",
            "BMU encontrado: (1, 4) com distância 0.5997785463254984\n",
            "BMU encontrado: (1, 4) com distância 0.4305133428462061\n",
            "BMU encontrado: (1, 4) com distância 0.35712006396681334\n",
            "BMU encontrado: (2, 4) com distância 0.4151767927289349\n",
            "BMU encontrado: (1, 4) com distância 0.2954110344719513\n",
            "BMU encontrado: (1, 4) com distância 0.46568220176800745\n",
            "BMU encontrado: (1, 4) com distância 0.5015055615014481\n",
            "BMU encontrado: (1, 4) com distância 0.4797519394690068\n",
            "BMU encontrado: (1, 4) com distância 0.3244588834200727\n",
            "BMU encontrado: (1, 4) com distância 0.33852749653865166\n",
            "BMU encontrado: (1, 4) com distância 0.5298540229956238\n",
            "BMU encontrado: (1, 4) com distância 0.4105358319089739\n",
            "BMU encontrado: (1, 4) com distância 0.6881325628990629\n",
            "BMU encontrado: (1, 4) com distância 0.5162531306972776\n",
            "BMU encontrado: (1, 4) com distância 0.41353220646852235\n",
            "BMU encontrado: (1, 4) com distância 0.4058982402547609\n",
            "BMU encontrado: (2, 4) com distância 0.45142333807542\n",
            "BMU encontrado: (1, 4) com distância 0.4660339653861646\n",
            "BMU encontrado: (1, 4) com distância 0.5349381702740303\n",
            "BMU encontrado: (1, 4) com distância 0.4930213521702151\n",
            "BMU encontrado: (1, 3) com distância 0.6010866004249946\n",
            "BMU encontrado: (1, 4) com distância 0.543383989812231\n",
            "BMU encontrado: (1, 4) com distância 0.6208475276844405\n",
            "BMU encontrado: (2, 4) com distância 0.5714390980429899\n",
            "BMU encontrado: (2, 4) com distância 0.6034833781324265\n",
            "BMU encontrado: (1, 4) com distância 0.45001222828549986\n",
            "BMU encontrado: (1, 4) com distância 0.582753453546046\n",
            "BMU encontrado: (2, 4) com distância 0.464053409773301\n",
            "BMU encontrado: (1, 4) com distância 0.47141396302426863\n",
            "BMU encontrado: (1, 4) com distância 0.4396962919123745\n",
            "BMU encontrado: (1, 4) com distância 0.27801685161728257\n",
            "BMU encontrado: (2, 4) com distância 0.45882945917569834\n",
            "BMU encontrado: (2, 4) com distância 0.5485005092410098\n",
            "BMU encontrado: (2, 4) com distância 0.4698551515933693\n",
            "BMU encontrado: (1, 4) com distância 0.4459740908850308\n",
            "BMU encontrado: (2, 4) com distância 0.47712908565526263\n",
            "BMU encontrado: (1, 4) com distância 0.5901333185736991\n",
            "BMU encontrado: (3, 3) com distância 0.6349065231208987\n",
            "BMU encontrado: (1, 4) com distância 0.6968866935780084\n",
            "BMU encontrado: (1, 4) com distância 0.4469412730710219\n",
            "BMU encontrado: (1, 3) com distância 0.47607486475043187\n",
            "BMU encontrado: (1, 4) com distância 0.35998493200792525\n",
            "BMU encontrado: (9, 8) com distância 0.5416170705481729\n",
            "BMU encontrado: (1, 4) com distância 0.45633071605044045\n",
            "BMU encontrado: (1, 3) com distância 0.5722245358978028\n",
            "BMU encontrado: (1, 4) com distância 0.4824454439689011\n",
            "BMU encontrado: (1, 4) com distância 0.31805197367063803\n",
            "BMU encontrado: (1, 4) com distância 0.3693918259872276\n",
            "BMU encontrado: (1, 4) com distância 0.3054707660892994\n",
            "BMU encontrado: (1, 5) com distância 0.49885137962631654\n",
            "BMU encontrado: (1, 4) com distância 0.42868755312351203\n",
            "BMU encontrado: (1, 4) com distância 0.3546445479350074\n",
            "BMU encontrado: (1, 4) com distância 0.41055878359430875\n",
            "BMU encontrado: (1, 4) com distância 0.3611086536802485\n",
            "BMU encontrado: (1, 4) com distância 0.309834680141583\n",
            "BMU encontrado: (1, 4) com distância 0.2974650491515358\n",
            "BMU encontrado: (1, 4) com distância 0.3373263744824023\n",
            "BMU encontrado: (1, 4) com distância 0.20164494122372095\n",
            "BMU encontrado: (3, 3) com distância 0.9781901431530213\n",
            "BMU encontrado: (9, 9) com distância 0.7373205309233125\n",
            "BMU encontrado: (9, 9) com distância 0.6058956766249892\n",
            "BMU encontrado: (3, 3) com distância 0.6436588143127682\n",
            "BMU encontrado: (3, 3) com distância 0.6380621104017412\n",
            "BMU encontrado: (3, 3) com distância 0.5509958456159322\n",
            "BMU encontrado: (3, 3) com distância 0.48394296781783847\n",
            "BMU encontrado: (3, 3) com distância 0.7012179503344619\n",
            "BMU encontrado: (3, 3) com distância 0.4368167285392692\n",
            "BMU encontrado: (9, 9) com distância 0.6209084187635361\n",
            "BMU encontrado: (5, 5) com distância 0.8850078615400984\n",
            "BMU encontrado: (9, 9) com distância 0.7333909352406075\n",
            "BMU encontrado: (3, 3) com distância 0.7797516162804606\n",
            "BMU encontrado: (3, 3) com distância 0.5715011222702718\n",
            "BMU encontrado: (3, 4) com distância 0.362672200393484\n",
            "BMU encontrado: (3, 3) com distância 0.7313357444459454\n",
            "BMU encontrado: (3, 3) com distância 0.5191337809947403\n",
            "BMU encontrado: (3, 3) com distância 0.5736193599537018\n",
            "BMU encontrado: (2, 9) com distância 0.4885412257563994\n",
            "BMU encontrado: (3, 3) com distância 0.7857805614307013\n",
            "BMU encontrado: (9, 8) com distância 0.598499437744671\n",
            "BMU encontrado: (3, 3) com distância 0.3425856208873782\n",
            "BMU encontrado: (3, 3) com distância 0.3826450520271116\n",
            "BMU encontrado: (3, 3) com distância 0.43575577586663594\n",
            "BMU encontrado: (9, 9) com distância 0.5971953937050569\n",
            "BMU encontrado: (3, 3) com distância 0.54670933729348\n",
            "BMU encontrado: (3, 3) com distância 0.33558043036964424\n",
            "BMU encontrado: (3, 3) com distância 0.4153841719432389\n",
            "BMU encontrado: (3, 3) com distância 0.5008061436416644\n",
            "BMU encontrado: (3, 3) com distância 0.4214135606456262\n",
            "BMU encontrado: (3, 3) com distância 0.4045854580895049\n",
            "BMU encontrado: (3, 3) com distância 0.4908954823264001\n",
            "BMU encontrado: (3, 3) com distância 0.46808202509272934\n",
            "BMU encontrado: (9, 9) com distância 0.6177735445464857\n",
            "BMU encontrado: (3, 3) com distância 0.40414229563298215\n",
            "BMU encontrado: (3, 3) com distância 0.525010173292577\n",
            "BMU encontrado: (3, 4) com distância 0.7936910992173207\n",
            "BMU encontrado: (5, 5) com distância 0.7951717798342992\n",
            "BMU encontrado: (3, 3) com distância 0.34685423082561995\n",
            "BMU encontrado: (3, 3) com distância 0.693892765754213\n",
            "BMU encontrado: (3, 3) com distância 0.6246874061776839\n",
            "BMU encontrado: (3, 3) com distância 0.4418750113273268\n",
            "BMU encontrado: (3, 3) com distância 0.45625006268055157\n",
            "BMU encontrado: (3, 3) com distância 0.45206792066819085\n",
            "BMU encontrado: (3, 3) com distância 0.3575611970998381\n",
            "BMU encontrado: (3, 3) com distância 0.3615883358906842\n",
            "BMU encontrado: (3, 3) com distância 0.6909303086464776\n",
            "BMU encontrado: (3, 3) com distância 0.2795619829702394\n",
            "BMU encontrado: (3, 3) com distância 0.532244475603842\n",
            "BMU encontrado: (3, 3) com distância 0.32490539290830645\n",
            "BMU encontrado: (3, 3) com distância 0.5602309697777055\n",
            "BMU encontrado: (9, 8) com distância 0.7707330234833035\n",
            "BMU encontrado: (3, 3) com distância 0.4272561776377678\n",
            "BMU encontrado: (2, 9) com distância 0.686635634359861\n",
            "BMU encontrado: (3, 3) com distância 0.4285150080700541\n",
            "BMU encontrado: (3, 3) com distância 0.4123229186675272\n",
            "BMU encontrado: (3, 3) com distância 0.6277970892219759\n",
            "BMU encontrado: (3, 3) com distância 0.3197711253374284\n",
            "BMU encontrado: (3, 3) com distância 0.3079263748476692\n",
            "BMU encontrado: (2, 9) com distância 0.5170130996656432\n",
            "BMU encontrado: (3, 3) com distância 0.4558790738537066\n",
            "BMU encontrado: (3, 3) com distância 0.5240447680720506\n",
            "BMU encontrado: (3, 4) com distância 0.9602731658259946\n",
            "BMU encontrado: (9, 8) com distância 0.6233585530887262\n",
            "BMU encontrado: (9, 8) com distância 0.3423984913584432\n",
            "BMU encontrado: (9, 8) com distância 0.7186855874274359\n",
            "BMU encontrado: (3, 3) com distância 0.3536619062513838\n",
            "BMU encontrado: (3, 3) com distância 0.5089829380772218\n",
            "BMU encontrado: (3, 3) com distância 0.7310869235244818\n",
            "BMU encontrado: (3, 3) com distância 0.3715290575251232\n",
            "BMU encontrado: (9, 8) com distância 0.546361444769277\n",
            "BMU encontrado: (5, 5) com distância 0.8708016592357655\n",
            "BMU encontrado: (2, 9) com distância 0.7077666736567431\n",
            "BMU encontrado: (2, 9) com distância 0.8293335800348376\n",
            "BMU encontrado: (2, 9) com distância 0.8136284304575343\n",
            "BMU encontrado: (9, 9) com distância 0.5332757214220407\n",
            "BMU encontrado: (2, 9) com distância 0.559332998632376\n",
            "BMU encontrado: (2, 9) com distância 0.5450266473482555\n",
            "BMU encontrado: (2, 9) com distância 0.7383781633060347\n",
            "BMU encontrado: (9, 9) com distância 0.5751337836099168\n",
            "BMU encontrado: (9, 9) com distância 0.5680926358515843\n",
            "BMU encontrado: (2, 9) com distância 0.5486041165731653\n",
            "BMU encontrado: (2, 9) com distância 0.6762633583115933\n",
            "BMU encontrado: (9, 9) com distância 0.667686225142686\n",
            "BMU encontrado: (2, 9) com distância 0.64240536918307\n",
            "BMU encontrado: (2, 9) com distância 0.6079604905003818\n",
            "BMU encontrado: (2, 9) com distância 0.6353939599477322\n",
            "BMU encontrado: (2, 9) com distância 0.8379515604849505\n",
            "BMU encontrado: (2, 9) com distância 0.5831002819262836\n",
            "BMU encontrado: (9, 9) com distância 0.5994225966941119\n",
            "BMU encontrado: (2, 9) com distância 0.762135706201866\n",
            "BMU encontrado: (4, 1) com distância 0.789945498466291\n",
            "BMU encontrado: (4, 1) com distância 0.8185934210894199\n",
            "BMU encontrado: (9, 9) com distância 0.792343206598076\n",
            "BMU encontrado: (9, 9) com distância 0.6606657271430448\n",
            "BMU encontrado: (9, 9) com distância 0.6048400793778929\n",
            "BMU encontrado: (2, 9) com distância 0.7628865218812415\n",
            "BMU encontrado: (9, 9) com distância 0.7027870683630814\n",
            "BMU encontrado: (3, 9) com distância 0.6414822708887158\n",
            "BMU encontrado: (5, 6) com distância 0.6374070526377814\n",
            "BMU encontrado: (5, 6) com distância 0.5786846855349356\n",
            "BMU encontrado: (2, 9) com distância 0.5685000198917165\n",
            "BMU encontrado: (9, 9) com distância 0.49690592265321964\n",
            "BMU encontrado: (2, 9) com distância 0.5506652052498524\n",
            "BMU encontrado: (2, 9) com distância 0.4677113771682719\n",
            "BMU encontrado: (9, 9) com distância 0.6914607701152655\n",
            "BMU encontrado: (9, 9) com distância 0.6981673651709482\n",
            "BMU encontrado: (9, 9) com distância 0.6893075223885303\n",
            "BMU encontrado: (2, 9) com distância 0.6419348939032369\n",
            "BMU encontrado: (9, 9) com distância 0.6254882330428219\n",
            "BMU encontrado: (4, 1) com distância 0.8361212050691835\n",
            "BMU encontrado: (2, 9) com distância 0.43376520354423936\n",
            "BMU encontrado: (2, 9) com distância 0.6932769685713417\n",
            "BMU encontrado: (9, 9) com distância 0.6418246261145689\n",
            "BMU encontrado: (2, 9) com distância 0.7444127371528905\n",
            "BMU encontrado: (9, 9) com distância 0.5823827798276321\n",
            "BMU encontrado: (2, 9) com distância 0.7693366151624604\n",
            "BMU encontrado: (9, 9) com distância 0.5883785790231917\n",
            "BMU encontrado: (9, 9) com distância 0.703435523947101\n"
          ]
        },
        {
          "output_type": "display_data",
          "data": {
            "text/plain": [
              "<Figure size 1000x1000 with 1 Axes>"
            ],
            "image/png": "[encoded data removed]"
          },
          "metadata": {}
        }
      ]
    }
  ]
}